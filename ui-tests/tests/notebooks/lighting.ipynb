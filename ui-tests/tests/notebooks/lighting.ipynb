{
 "cells": [
  {
   "cell_type": "code",
   "execution_count": null,
   "metadata": {},
   "outputs": [],
   "source": [
    "import ipyvolume as ipv\n",
    "import numpy as np\n",
    "\n",
    "a0 = np.array([0.])\n",
    "a1 = np.array([1.])\n",
    "\n",
    "def scene(flip):\n",
    "    ipv.xyzlim(-1, 1)\n",
    "    ipv.light_ambient(intensity=0.4)\n",
    "    ipv.light_directional(position=[0, 50, 0]);\n",
    "    if flip:\n",
    "        s = ipv.quiver(a0, a0, a0, a0, -a1, a0, marker=\"sphere\", size=20);\n",
    "    else:\n",
    "        s = ipv.scatter(a0, a0, a0, marker=\"sphere\", size=20);\n",
    "    m = ipv.plot_plane('bottom')\n",
    "    ipv.show()"
   ]
  },
  {
   "cell_type": "code",
   "execution_count": null,
   "metadata": {},
   "outputs": [],
   "source": [
    "f = ipv.figure()\n",
    "ipv.material_physical(flat_shading=False)\n",
    "scene(flip=False)"
   ]
  },
  {
   "cell_type": "code",
   "execution_count": null,
   "metadata": {},
   "outputs": [],
   "source": [
    "f = ipv.figure()\n",
    "ipv.material_physical(flat_shading=True)\n",
    "scene(flip=False)"
   ]
  },
  {
   "cell_type": "code",
   "execution_count": null,
   "metadata": {},
   "outputs": [],
   "source": [
    "f = ipv.figure()\n",
    "ipv.material_physical()\n",
    "scene(flip=True)"
   ]
  },
  {
   "cell_type": "code",
   "execution_count": null,
   "metadata": {},
   "outputs": [],
   "source": [
    "f = ipv.figure()\n",
    "ipv.material_phong()\n",
    "scene(flip=False)"
   ]
  },
  {
   "cell_type": "code",
   "execution_count": null,
   "metadata": {},
   "outputs": [],
   "source": [
    "f = ipv.figure()\n",
    "ipv.material_phong()\n",
    "scene(flip=True)"
   ]
  },
  {
   "cell_type": "code",
   "execution_count": null,
   "metadata": {},
   "outputs": [],
   "source": [
    "f = ipv.figure()\n",
    "ipv.material_lambert()\n",
    "scene(flip=False)"
   ]
  },
  {
   "cell_type": "code",
   "execution_count": null,
   "metadata": {},
   "outputs": [],
   "source": [
    "f = ipv.figure()\n",
    "ipv.material_lambert()\n",
    "scene(flip=True)"
   ]
  },
  {
   "cell_type": "code",
   "execution_count": null,
   "metadata": {},
   "outputs": [],
   "source": []
  }
 ],
 "metadata": {
  "kernelspec": {
   "display_name": "Python 3",
   "language": "python",
   "name": "python3"
  },
  "language_info": {
   "codemirror_mode": {
    "name": "ipython",
    "version": 3
   },
   "file_extension": ".py",
   "mimetype": "text/x-python",
   "name": "python",
   "nbconvert_exporter": "python",
   "pygments_lexer": "ipython3",
   "version": "3.7.3"
  }
 },
 "nbformat": 4,
 "nbformat_minor": 5
}
